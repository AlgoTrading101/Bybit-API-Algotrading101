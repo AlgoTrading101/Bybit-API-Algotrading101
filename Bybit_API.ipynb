{
  "nbformat": 4,
  "nbformat_minor": 0,
  "metadata": {
    "colab": {
      "name": "Bybit API",
      "provenance": [],
      "collapsed_sections": [
        "pqRWIqCK6-g7",
        "U7sC9c0m66JZ",
        "jdLFch0d97uA",
        "OpBeCnY4Gw9k",
        "XRkIlHTAGyyd",
        "WZpyGFU96y94",
        "4OIIxNx09y-7"
      ],
      "authorship_tag": "ABX9TyO4tYeXXlbI+0mDHI8zI+wR"
    },
    "kernelspec": {
      "name": "python3",
      "display_name": "Python 3"
    },
    "language_info": {
      "name": "python"
    }
  },
  "cells": [
    {
      "cell_type": "markdown",
      "source": [
        "# Setup"
      ],
      "metadata": {
        "id": "jGY1IiVsxkjx"
      }
    },
    {
      "cell_type": "code",
      "execution_count": null,
      "metadata": {
        "id": "Xr_GkrhCxh75",
        "colab": {
          "base_uri": "https://localhost:8080/"
        },
        "outputId": "7d9f010f-efbe-4bac-c60a-7de21443d663"
      },
      "outputs": [
        {
          "output_type": "stream",
          "name": "stdout",
          "text": [
            "Looking in indexes: https://pypi.org/simple, https://us-python.pkg.dev/colab-wheels/public/simple/\n",
            "Requirement already satisfied: pybit in /usr/local/lib/python3.7/dist-packages (2.4.0)\n",
            "Requirement already satisfied: websocket-client in /usr/local/lib/python3.7/dist-packages (from pybit) (1.3.3)\n",
            "Requirement already satisfied: websockets in /usr/local/lib/python3.7/dist-packages (from pybit) (10.3)\n",
            "Requirement already satisfied: requests in /usr/local/lib/python3.7/dist-packages (from pybit) (2.23.0)\n",
            "Requirement already satisfied: chardet<4,>=3.0.2 in /usr/local/lib/python3.7/dist-packages (from requests->pybit) (3.0.4)\n",
            "Requirement already satisfied: certifi>=2017.4.17 in /usr/local/lib/python3.7/dist-packages (from requests->pybit) (2022.6.15)\n",
            "Requirement already satisfied: urllib3!=1.25.0,!=1.25.1,<1.26,>=1.21.1 in /usr/local/lib/python3.7/dist-packages (from requests->pybit) (1.24.3)\n",
            "Requirement already satisfied: idna<3,>=2.5 in /usr/local/lib/python3.7/dist-packages (from requests->pybit) (2.10)\n"
          ]
        }
      ],
      "source": [
        "!pip install pybit"
      ]
    },
    {
      "cell_type": "code",
      "source": [
        "api_key = \"\"\n",
        "api_secret_key = \"\""
      ],
      "metadata": {
        "id": "jj40uoBKxnGN"
      },
      "execution_count": null,
      "outputs": []
    },
    {
      "cell_type": "code",
      "source": [
        "# Connect to Bybit\n",
        "\n",
        "from pybit import spot\n",
        "\n",
        "session = spot.HTTP(\n",
        "    api_key=api_key,\n",
        "    api_secret=api_secret_key,\n",
        "    endpoint='https://api.bybit.com'\n",
        ")"
      ],
      "metadata": {
        "id": "1k_GIVMexzzB"
      },
      "execution_count": null,
      "outputs": []
    },
    {
      "cell_type": "code",
      "source": [
        "session"
      ],
      "metadata": {
        "colab": {
          "base_uri": "https://localhost:8080/"
        },
        "id": "ekevW62lzNIe",
        "outputId": "7e9d2ecd-6dd7-4e4f-be8e-bca167fbbfb6"
      },
      "execution_count": null,
      "outputs": [
        {
          "output_type": "execute_result",
          "data": {
            "text/plain": [
              "<pybit.spot.HTTP at 0x7fe931737e90>"
            ]
          },
          "metadata": {},
          "execution_count": 11
        }
      ]
    },
    {
      "cell_type": "markdown",
      "source": [
        "# Market Data"
      ],
      "metadata": {
        "id": "WUpY0QhSy2pp"
      }
    },
    {
      "cell_type": "markdown",
      "source": [
        "## Price Data"
      ],
      "metadata": {
        "id": "pqRWIqCK6-g7"
      }
    },
    {
      "cell_type": "code",
      "source": [
        "symbols = session.query_symbol()\n",
        "symbols['result'][:2]"
      ],
      "metadata": {
        "id": "o2AR8IMs1PuN"
      },
      "execution_count": null,
      "outputs": []
    },
    {
      "cell_type": "code",
      "source": [
        "len(symbols['result'])"
      ],
      "metadata": {
        "colab": {
          "base_uri": "https://localhost:8080/"
        },
        "id": "HvphupW12T3M",
        "outputId": "d1962d61-8778-4aea-c46a-79a0e0a74ef2"
      },
      "execution_count": null,
      "outputs": [
        {
          "output_type": "execute_result",
          "data": {
            "text/plain": [
              "267"
            ]
          },
          "metadata": {},
          "execution_count": 30
        }
      ]
    },
    {
      "cell_type": "code",
      "source": [
        "session.latest_information_for_symbol(symbol='DOTUSDT')"
      ],
      "metadata": {
        "colab": {
          "base_uri": "https://localhost:8080/"
        },
        "id": "pt6O02mu0YQb",
        "outputId": "591f94f8-3733-450b-d7dd-13bdb9c95c90"
      },
      "execution_count": null,
      "outputs": [
        {
          "output_type": "execute_result",
          "data": {
            "text/plain": [
              "{'ext_code': None,\n",
              " 'ext_info': None,\n",
              " 'result': {'bestAskPrice': '8.36',\n",
              "  'bestBidPrice': '8.35',\n",
              "  'highPrice': '8.395',\n",
              "  'lastPrice': '8.353',\n",
              "  'lowPrice': '7.681',\n",
              "  'openPrice': '8.008',\n",
              "  'quoteVolume': '2926658.120793',\n",
              "  'symbol': 'DOTUSDT',\n",
              "  'time': 1659549530626,\n",
              "  'volume': '362486.789'},\n",
              " 'ret_code': 0,\n",
              " 'ret_msg': None}"
            ]
          },
          "metadata": {},
          "execution_count": 31
        }
      ]
    },
    {
      "cell_type": "markdown",
      "source": [
        "## Orderbook"
      ],
      "metadata": {
        "id": "U7sC9c0m66JZ"
      }
    },
    {
      "cell_type": "code",
      "source": [
        "orderbook = session.orderbook(symbol='BTCUSDT')\n",
        "\n",
        "print('Bids: ', orderbook['result']['bids'][:3])\n",
        "print('Asks: ', orderbook['result']['asks'][:3])"
      ],
      "metadata": {
        "colab": {
          "base_uri": "https://localhost:8080/"
        },
        "id": "XWbWlVQC3yb1",
        "outputId": "1969365d-5a09-4574-d03a-ba53026243a2"
      },
      "execution_count": null,
      "outputs": [
        {
          "output_type": "stream",
          "name": "stdout",
          "text": [
            "Bids:  [['23388.53', '0.179395'], ['23388.43', '0.002543'], ['23388.33', '0.002398']]\n",
            "Asks:  [['23388.54', '0.0005'], ['23388.63', '0.002543'], ['23388.67', '0.303883']]\n"
          ]
        }
      ]
    },
    {
      "cell_type": "code",
      "source": [
        "import pandas as pd\n",
        "\n",
        "bids = pd.DataFrame(orderbook['result']['bids'], columns=['bid', 'bid_size'])\n",
        "asks = pd.DataFrame(orderbook['result']['asks'], columns=['ask', 'ask_size'])\n",
        "\n",
        "print(bids.head())\n",
        "print(asks.head())"
      ],
      "metadata": {
        "colab": {
          "base_uri": "https://localhost:8080/"
        },
        "id": "5I16Rjc04mc-",
        "outputId": "2e2e62b9-8e28-4df8-d777-0375b47e5a9b"
      },
      "execution_count": null,
      "outputs": [
        {
          "output_type": "stream",
          "name": "stdout",
          "text": [
            "        bid  bid_size\n",
            "0  23388.53  0.179395\n",
            "1  23388.43  0.002543\n",
            "2  23388.33  0.002398\n",
            "3  23386.35  1.194214\n",
            "4  23385.87     0.085\n",
            "        ask  ask_size\n",
            "0  23388.54    0.0005\n",
            "1  23388.63  0.002543\n",
            "2  23388.67  0.303883\n",
            "3  23391.56  0.237966\n",
            "4  23393.03  0.160026\n"
          ]
        }
      ]
    },
    {
      "cell_type": "code",
      "source": [
        "orderbook_df = pd.merge(bids, asks, left_index=True, right_index=True)\n",
        "orderbook_df.head()"
      ],
      "metadata": {
        "colab": {
          "base_uri": "https://localhost:8080/",
          "height": 206
        },
        "id": "9w0L-_2u5UXl",
        "outputId": "d8388887-d3f2-420d-8b8b-910934359ee6"
      },
      "execution_count": null,
      "outputs": [
        {
          "output_type": "execute_result",
          "data": {
            "text/plain": [
              "        bid  bid_size       ask  ask_size\n",
              "0  23388.53  0.179395  23388.54    0.0005\n",
              "1  23388.43  0.002543  23388.63  0.002543\n",
              "2  23388.33  0.002398  23388.67  0.303883\n",
              "3  23386.35  1.194214  23391.56  0.237966\n",
              "4  23385.87     0.085  23393.03  0.160026"
            ],
            "text/html": [
              "\n",
              "  <div id=\"df-7057f4e1-ba73-4b98-a104-c9765db041a2\">\n",
              "    <div class=\"colab-df-container\">\n",
              "      <div>\n",
              "<style scoped>\n",
              "    .dataframe tbody tr th:only-of-type {\n",
              "        vertical-align: middle;\n",
              "    }\n",
              "\n",
              "    .dataframe tbody tr th {\n",
              "        vertical-align: top;\n",
              "    }\n",
              "\n",
              "    .dataframe thead th {\n",
              "        text-align: right;\n",
              "    }\n",
              "</style>\n",
              "<table border=\"1\" class=\"dataframe\">\n",
              "  <thead>\n",
              "    <tr style=\"text-align: right;\">\n",
              "      <th></th>\n",
              "      <th>bid</th>\n",
              "      <th>bid_size</th>\n",
              "      <th>ask</th>\n",
              "      <th>ask_size</th>\n",
              "    </tr>\n",
              "  </thead>\n",
              "  <tbody>\n",
              "    <tr>\n",
              "      <th>0</th>\n",
              "      <td>23388.53</td>\n",
              "      <td>0.179395</td>\n",
              "      <td>23388.54</td>\n",
              "      <td>0.0005</td>\n",
              "    </tr>\n",
              "    <tr>\n",
              "      <th>1</th>\n",
              "      <td>23388.43</td>\n",
              "      <td>0.002543</td>\n",
              "      <td>23388.63</td>\n",
              "      <td>0.002543</td>\n",
              "    </tr>\n",
              "    <tr>\n",
              "      <th>2</th>\n",
              "      <td>23388.33</td>\n",
              "      <td>0.002398</td>\n",
              "      <td>23388.67</td>\n",
              "      <td>0.303883</td>\n",
              "    </tr>\n",
              "    <tr>\n",
              "      <th>3</th>\n",
              "      <td>23386.35</td>\n",
              "      <td>1.194214</td>\n",
              "      <td>23391.56</td>\n",
              "      <td>0.237966</td>\n",
              "    </tr>\n",
              "    <tr>\n",
              "      <th>4</th>\n",
              "      <td>23385.87</td>\n",
              "      <td>0.085</td>\n",
              "      <td>23393.03</td>\n",
              "      <td>0.160026</td>\n",
              "    </tr>\n",
              "  </tbody>\n",
              "</table>\n",
              "</div>\n",
              "      <button class=\"colab-df-convert\" onclick=\"convertToInteractive('df-7057f4e1-ba73-4b98-a104-c9765db041a2')\"\n",
              "              title=\"Convert this dataframe to an interactive table.\"\n",
              "              style=\"display:none;\">\n",
              "        \n",
              "  <svg xmlns=\"http://www.w3.org/2000/svg\" height=\"24px\"viewBox=\"0 0 24 24\"\n",
              "       width=\"24px\">\n",
              "    <path d=\"M0 0h24v24H0V0z\" fill=\"none\"/>\n",
              "    <path d=\"M18.56 5.44l.94 2.06.94-2.06 2.06-.94-2.06-.94-.94-2.06-.94 2.06-2.06.94zm-11 1L8.5 8.5l.94-2.06 2.06-.94-2.06-.94L8.5 2.5l-.94 2.06-2.06.94zm10 10l.94 2.06.94-2.06 2.06-.94-2.06-.94-.94-2.06-.94 2.06-2.06.94z\"/><path d=\"M17.41 7.96l-1.37-1.37c-.4-.4-.92-.59-1.43-.59-.52 0-1.04.2-1.43.59L10.3 9.45l-7.72 7.72c-.78.78-.78 2.05 0 2.83L4 21.41c.39.39.9.59 1.41.59.51 0 1.02-.2 1.41-.59l7.78-7.78 2.81-2.81c.8-.78.8-2.07 0-2.86zM5.41 20L4 18.59l7.72-7.72 1.47 1.35L5.41 20z\"/>\n",
              "  </svg>\n",
              "      </button>\n",
              "      \n",
              "  <style>\n",
              "    .colab-df-container {\n",
              "      display:flex;\n",
              "      flex-wrap:wrap;\n",
              "      gap: 12px;\n",
              "    }\n",
              "\n",
              "    .colab-df-convert {\n",
              "      background-color: #E8F0FE;\n",
              "      border: none;\n",
              "      border-radius: 50%;\n",
              "      cursor: pointer;\n",
              "      display: none;\n",
              "      fill: #1967D2;\n",
              "      height: 32px;\n",
              "      padding: 0 0 0 0;\n",
              "      width: 32px;\n",
              "    }\n",
              "\n",
              "    .colab-df-convert:hover {\n",
              "      background-color: #E2EBFA;\n",
              "      box-shadow: 0px 1px 2px rgba(60, 64, 67, 0.3), 0px 1px 3px 1px rgba(60, 64, 67, 0.15);\n",
              "      fill: #174EA6;\n",
              "    }\n",
              "\n",
              "    [theme=dark] .colab-df-convert {\n",
              "      background-color: #3B4455;\n",
              "      fill: #D2E3FC;\n",
              "    }\n",
              "\n",
              "    [theme=dark] .colab-df-convert:hover {\n",
              "      background-color: #434B5C;\n",
              "      box-shadow: 0px 1px 3px 1px rgba(0, 0, 0, 0.15);\n",
              "      filter: drop-shadow(0px 1px 2px rgba(0, 0, 0, 0.3));\n",
              "      fill: #FFFFFF;\n",
              "    }\n",
              "  </style>\n",
              "\n",
              "      <script>\n",
              "        const buttonEl =\n",
              "          document.querySelector('#df-7057f4e1-ba73-4b98-a104-c9765db041a2 button.colab-df-convert');\n",
              "        buttonEl.style.display =\n",
              "          google.colab.kernel.accessAllowed ? 'block' : 'none';\n",
              "\n",
              "        async function convertToInteractive(key) {\n",
              "          const element = document.querySelector('#df-7057f4e1-ba73-4b98-a104-c9765db041a2');\n",
              "          const dataTable =\n",
              "            await google.colab.kernel.invokeFunction('convertToInteractive',\n",
              "                                                     [key], {});\n",
              "          if (!dataTable) return;\n",
              "\n",
              "          const docLinkHtml = 'Like what you see? Visit the ' +\n",
              "            '<a target=\"_blank\" href=https://colab.research.google.com/notebooks/data_table.ipynb>data table notebook</a>'\n",
              "            + ' to learn more about interactive tables.';\n",
              "          element.innerHTML = '';\n",
              "          dataTable['output_type'] = 'display_data';\n",
              "          await google.colab.output.renderOutput(dataTable, element);\n",
              "          const docLink = document.createElement('div');\n",
              "          docLink.innerHTML = docLinkHtml;\n",
              "          element.appendChild(docLink);\n",
              "        }\n",
              "      </script>\n",
              "    </div>\n",
              "  </div>\n",
              "  "
            ]
          },
          "metadata": {},
          "execution_count": 72
        }
      ]
    },
    {
      "cell_type": "code",
      "source": [
        "import matplotlib.pyplot as plt\n",
        "import seaborn as sns\n",
        "\n",
        "# Convert df columns to numeric values\n",
        "orderbook_df = orderbook_df.apply(pd.to_numeric)\n",
        "\n",
        "fig, ax = plt.subplots()\n",
        "ax.set_title(\"BTCUSDT Bybit Orderbook\")\n",
        "\n",
        "sns.ecdfplot(x=\"bid\", weights=\"bid_size\", stat=\"count\", complementary=True, data=orderbook_df, ax=ax, color='g')\n",
        "sns.ecdfplot(x=\"ask\", weights=\"ask_size\", stat=\"count\", data=orderbook_df, ax=ax, color='r')\n",
        "\n",
        "ax.set_xlabel(\"Price\")\n",
        "ax.set_ylabel(\"Amount\")"
      ],
      "metadata": {
        "colab": {
          "base_uri": "https://localhost:8080/",
          "height": 313
        },
        "id": "i02tZ6LQ6Y8D",
        "outputId": "7e7f533f-248a-44ac-d50b-d3535bc5d95f"
      },
      "execution_count": null,
      "outputs": [
        {
          "output_type": "execute_result",
          "data": {
            "text/plain": [
              "Text(0, 0.5, 'Amount')"
            ]
          },
          "metadata": {},
          "execution_count": 75
        },
        {
          "output_type": "display_data",
          "data": {
            "text/plain": [
              "<Figure size 432x288 with 1 Axes>"
            ],
            "image/png": "[encoded data removed]"
          },
          "metadata": {
            "needs_background": "light"
          }
        }
      ]
    },
    {
      "cell_type": "markdown",
      "source": [
        "## Open Interest"
      ],
      "metadata": {
        "id": "jdLFch0d97uA"
      }
    },
    {
      "cell_type": "code",
      "source": [
        "from pybit import inverse_perpetual\n",
        "\n",
        "perpetual_session = inverse_perpetual.HTTP(\n",
        "    endpoint=\"https://api-testnet.bybit.com\"\n",
        ")\n",
        "\n",
        "open_interest = perpetual_session.open_interest(\n",
        "    symbol=\"BTCUSD\",\n",
        "    period=\"30min\"\n",
        ")\n",
        "\n",
        "open_interest['result'][:5]"
      ],
      "metadata": {
        "colab": {
          "base_uri": "https://localhost:8080/"
        },
        "id": "BYXcBe1R-Yzi",
        "outputId": "e284c3f8-f207-48d7-97c9-600c78d10702"
      },
      "execution_count": null,
      "outputs": [
        {
          "output_type": "execute_result",
          "data": {
            "text/plain": [
              "[{'open_interest': 402054656, 'symbol': 'BTCUSD', 'timestamp': 1659551400},\n",
              " {'open_interest': 401918540, 'symbol': 'BTCUSD', 'timestamp': 1659549600},\n",
              " {'open_interest': 402434973, 'symbol': 'BTCUSD', 'timestamp': 1659547800},\n",
              " {'open_interest': 402550888, 'symbol': 'BTCUSD', 'timestamp': 1659546000},\n",
              " {'open_interest': 402655793, 'symbol': 'BTCUSD', 'timestamp': 1659544200}]"
            ]
          },
          "metadata": {},
          "execution_count": 88
        }
      ]
    },
    {
      "cell_type": "code",
      "source": [
        "open_interest_df = pd.DataFrame(open_interest['result'])\n",
        "open_interest_df.drop('symbol', axis=1, inplace=True)\n",
        "open_interest_df['timestamp'] = pd.to_datetime(open_interest_df['timestamp'], unit='s')\n",
        "open_interest_df.head()"
      ],
      "metadata": {
        "colab": {
          "base_uri": "https://localhost:8080/",
          "height": 206
        },
        "id": "mpDUSVRP-Uhq",
        "outputId": "0ad4dfa3-0b3e-49bd-a731-e0421f25966e"
      },
      "execution_count": null,
      "outputs": [
        {
          "output_type": "execute_result",
          "data": {
            "text/plain": [
              "   open_interest           timestamp\n",
              "0      402054656 2022-08-03 18:30:00\n",
              "1      401918540 2022-08-03 18:00:00\n",
              "2      402434973 2022-08-03 17:30:00\n",
              "3      402550888 2022-08-03 17:00:00\n",
              "4      402655793 2022-08-03 16:30:00"
            ],
            "text/html": [
              "\n",
              "  <div id=\"df-5bf4a13a-8dba-4cad-afff-52f9510a0f29\">\n",
              "    <div class=\"colab-df-container\">\n",
              "      <div>\n",
              "<style scoped>\n",
              "    .dataframe tbody tr th:only-of-type {\n",
              "        vertical-align: middle;\n",
              "    }\n",
              "\n",
              "    .dataframe tbody tr th {\n",
              "        vertical-align: top;\n",
              "    }\n",
              "\n",
              "    .dataframe thead th {\n",
              "        text-align: right;\n",
              "    }\n",
              "</style>\n",
              "<table border=\"1\" class=\"dataframe\">\n",
              "  <thead>\n",
              "    <tr style=\"text-align: right;\">\n",
              "      <th></th>\n",
              "      <th>open_interest</th>\n",
              "      <th>timestamp</th>\n",
              "    </tr>\n",
              "  </thead>\n",
              "  <tbody>\n",
              "    <tr>\n",
              "      <th>0</th>\n",
              "      <td>402054656</td>\n",
              "      <td>2022-08-03 18:30:00</td>\n",
              "    </tr>\n",
              "    <tr>\n",
              "      <th>1</th>\n",
              "      <td>401918540</td>\n",
              "      <td>2022-08-03 18:00:00</td>\n",
              "    </tr>\n",
              "    <tr>\n",
              "      <th>2</th>\n",
              "      <td>402434973</td>\n",
              "      <td>2022-08-03 17:30:00</td>\n",
              "    </tr>\n",
              "    <tr>\n",
              "      <th>3</th>\n",
              "      <td>402550888</td>\n",
              "      <td>2022-08-03 17:00:00</td>\n",
              "    </tr>\n",
              "    <tr>\n",
              "      <th>4</th>\n",
              "      <td>402655793</td>\n",
              "      <td>2022-08-03 16:30:00</td>\n",
              "    </tr>\n",
              "  </tbody>\n",
              "</table>\n",
              "</div>\n",
              "      <button class=\"colab-df-convert\" onclick=\"convertToInteractive('df-5bf4a13a-8dba-4cad-afff-52f9510a0f29')\"\n",
              "              title=\"Convert this dataframe to an interactive table.\"\n",
              "              style=\"display:none;\">\n",
              "        \n",
              "  <svg xmlns=\"http://www.w3.org/2000/svg\" height=\"24px\"viewBox=\"0 0 24 24\"\n",
              "       width=\"24px\">\n",
              "    <path d=\"M0 0h24v24H0V0z\" fill=\"none\"/>\n",
              "    <path d=\"M18.56 5.44l.94 2.06.94-2.06 2.06-.94-2.06-.94-.94-2.06-.94 2.06-2.06.94zm-11 1L8.5 8.5l.94-2.06 2.06-.94-2.06-.94L8.5 2.5l-.94 2.06-2.06.94zm10 10l.94 2.06.94-2.06 2.06-.94-2.06-.94-.94-2.06-.94 2.06-2.06.94z\"/><path d=\"M17.41 7.96l-1.37-1.37c-.4-.4-.92-.59-1.43-.59-.52 0-1.04.2-1.43.59L10.3 9.45l-7.72 7.72c-.78.78-.78 2.05 0 2.83L4 21.41c.39.39.9.59 1.41.59.51 0 1.02-.2 1.41-.59l7.78-7.78 2.81-2.81c.8-.78.8-2.07 0-2.86zM5.41 20L4 18.59l7.72-7.72 1.47 1.35L5.41 20z\"/>\n",
              "  </svg>\n",
              "      </button>\n",
              "      \n",
              "  <style>\n",
              "    .colab-df-container {\n",
              "      display:flex;\n",
              "      flex-wrap:wrap;\n",
              "      gap: 12px;\n",
              "    }\n",
              "\n",
              "    .colab-df-convert {\n",
              "      background-color: #E8F0FE;\n",
              "      border: none;\n",
              "      border-radius: 50%;\n",
              "      cursor: pointer;\n",
              "      display: none;\n",
              "      fill: #1967D2;\n",
              "      height: 32px;\n",
              "      padding: 0 0 0 0;\n",
              "      width: 32px;\n",
              "    }\n",
              "\n",
              "    .colab-df-convert:hover {\n",
              "      background-color: #E2EBFA;\n",
              "      box-shadow: 0px 1px 2px rgba(60, 64, 67, 0.3), 0px 1px 3px 1px rgba(60, 64, 67, 0.15);\n",
              "      fill: #174EA6;\n",
              "    }\n",
              "\n",
              "    [theme=dark] .colab-df-convert {\n",
              "      background-color: #3B4455;\n",
              "      fill: #D2E3FC;\n",
              "    }\n",
              "\n",
              "    [theme=dark] .colab-df-convert:hover {\n",
              "      background-color: #434B5C;\n",
              "      box-shadow: 0px 1px 3px 1px rgba(0, 0, 0, 0.15);\n",
              "      filter: drop-shadow(0px 1px 2px rgba(0, 0, 0, 0.3));\n",
              "      fill: #FFFFFF;\n",
              "    }\n",
              "  </style>\n",
              "\n",
              "      <script>\n",
              "        const buttonEl =\n",
              "          document.querySelector('#df-5bf4a13a-8dba-4cad-afff-52f9510a0f29 button.colab-df-convert');\n",
              "        buttonEl.style.display =\n",
              "          google.colab.kernel.accessAllowed ? 'block' : 'none';\n",
              "\n",
              "        async function convertToInteractive(key) {\n",
              "          const element = document.querySelector('#df-5bf4a13a-8dba-4cad-afff-52f9510a0f29');\n",
              "          const dataTable =\n",
              "            await google.colab.kernel.invokeFunction('convertToInteractive',\n",
              "                                                     [key], {});\n",
              "          if (!dataTable) return;\n",
              "\n",
              "          const docLinkHtml = 'Like what you see? Visit the ' +\n",
              "            '<a target=\"_blank\" href=https://colab.research.google.com/notebooks/data_table.ipynb>data table notebook</a>'\n",
              "            + ' to learn more about interactive tables.';\n",
              "          element.innerHTML = '';\n",
              "          dataTable['output_type'] = 'display_data';\n",
              "          await google.colab.output.renderOutput(dataTable, element);\n",
              "          const docLink = document.createElement('div');\n",
              "          docLink.innerHTML = docLinkHtml;\n",
              "          element.appendChild(docLink);\n",
              "        }\n",
              "      </script>\n",
              "    </div>\n",
              "  </div>\n",
              "  "
            ]
          },
          "metadata": {},
          "execution_count": 94
        }
      ]
    },
    {
      "cell_type": "markdown",
      "source": [
        "# Orders"
      ],
      "metadata": {
        "id": "lakT4VVtB_US"
      }
    },
    {
      "cell_type": "markdown",
      "source": [
        "## Market Order"
      ],
      "metadata": {
        "id": "OpBeCnY4Gw9k"
      }
    },
    {
      "cell_type": "code",
      "source": [
        "from pybit import inverse_perpetual\n",
        "\n",
        "session_auth = inverse_perpetual.HTTP(\n",
        "    endpoint=\"https://api-testnet.bybit.com\",\n",
        "    api_key=api_key,\n",
        "    api_secret=api_secret_key\n",
        ")\n",
        "\n",
        "print(session_auth.place_active_order(\n",
        "    symbol=\"BTCUSDT\",\n",
        "    side=\"Buy\",\n",
        "    order_type=\"Market\",\n",
        "    qty=20000,\n",
        "    time_in_force=\"GoodTillCancel\"\n",
        "))"
      ],
      "metadata": {
        "id": "n88XBlT8BU01"
      },
      "execution_count": null,
      "outputs": []
    },
    {
      "cell_type": "markdown",
      "source": [
        "## Limit Order"
      ],
      "metadata": {
        "id": "XRkIlHTAGyyd"
      }
    },
    {
      "cell_type": "code",
      "source": [
        "print(session_auth.place_conditional_order(\n",
        "    symbol=\"BTCUSDT\",\n",
        "    order_type=\"Limit\",\n",
        "    side=\"Buy\",\n",
        "    qty=1,\n",
        "    price=20100,\n",
        "    base_price=20192,\n",
        "    stop_px=20150,\n",
        "    time_in_force=\"GoodTillCancel\"\n",
        "))"
      ],
      "metadata": {
        "id": "gSjRMYljBUt7"
      },
      "execution_count": null,
      "outputs": []
    },
    {
      "cell_type": "markdown",
      "source": [
        "## Query Orders"
      ],
      "metadata": {
        "id": "ibi6t5L6H-4Q"
      }
    },
    {
      "cell_type": "code",
      "source": [
        "print(session.query_active_order(\n",
        "    symbol=\"BTCUSDT\",\n",
        "    order_id=\"ORDER-ID-HERE\"\n",
        "))"
      ],
      "metadata": {
        "id": "Brov7dXCGwhw"
      },
      "execution_count": null,
      "outputs": []
    },
    {
      "cell_type": "code",
      "source": [
        "print(session_auth.get_active_order(\n",
        "    symbol=\"BTCUSDT\",\n",
        "    order_status=\"Filled\"\n",
        "))"
      ],
      "metadata": {
        "id": "GCzm1Pri5xm2"
      },
      "execution_count": null,
      "outputs": []
    },
    {
      "cell_type": "markdown",
      "source": [
        "## Cancel Open Orders"
      ],
      "metadata": {
        "id": "WZpyGFU96y94"
      }
    },
    {
      "cell_type": "code",
      "source": [
        "print(session_auth.cancel_active_order(\n",
        "    symbol=\"BTCUSDT\",\n",
        "    order_id=\"ORDER-ID-HERE\"\n",
        "))"
      ],
      "metadata": {
        "id": "RA--_jwA60QK"
      },
      "execution_count": null,
      "outputs": []
    },
    {
      "cell_type": "code",
      "source": [
        "print(session_auth.cancel_all_active_orders(\n",
        "    symbol=\"BTCUSDT\"\n",
        "))"
      ],
      "metadata": {
        "id": "wJk1_Vpb7qfB"
      },
      "execution_count": null,
      "outputs": []
    },
    {
      "cell_type": "markdown",
      "source": [
        "## Position Data"
      ],
      "metadata": {
        "id": "596XCTYL7o_v"
      }
    },
    {
      "cell_type": "code",
      "source": [
        "print(session_auth.my_position(\n",
        "    symbol=\"BTCUSDT\"\n",
        "))"
      ],
      "metadata": {
        "id": "JYHYsKhn7DI7"
      },
      "execution_count": null,
      "outputs": []
    },
    {
      "cell_type": "markdown",
      "source": [
        "## Set Leverage"
      ],
      "metadata": {
        "id": "7U745Lpk8CWH"
      }
    },
    {
      "cell_type": "code",
      "source": [
        "print(session_auth.set_leverage(\n",
        "    symbol=\"BTCUSDT\",\n",
        "    leverage=2\n",
        "))"
      ],
      "metadata": {
        "id": "CtSo359g8SgI"
      },
      "execution_count": null,
      "outputs": []
    },
    {
      "cell_type": "markdown",
      "source": [
        "## Wallet Balance\n"
      ],
      "metadata": {
        "id": "V--B78kd8jl9"
      }
    },
    {
      "cell_type": "code",
      "source": [
        "print(session_auth.get_wallet_balance(coin=\"BTC\"))"
      ],
      "metadata": {
        "id": "ggC_0-OC8lkf"
      },
      "execution_count": null,
      "outputs": []
    },
    {
      "cell_type": "markdown",
      "source": [
        "# WebSocket"
      ],
      "metadata": {
        "id": "4OIIxNx09y-7"
      }
    },
    {
      "cell_type": "code",
      "source": [
        "ws = inverse_perpetual.WebSocket(\n",
        "    test=True,\n",
        "    api_key=api_key,\n",
        "    api_secret=api_secret_key\n",
        ")"
      ],
      "metadata": {
        "id": "v-eyBB9G92C5"
      },
      "execution_count": null,
      "outputs": []
    },
    {
      "cell_type": "code",
      "source": [
        "def handler(message):\n",
        "    print(message)\n",
        "\n",
        "ws.orderbook_25_stream(handler, \"BTCUSD\")"
      ],
      "metadata": {
        "id": "ZCdGsyX4-Vp7"
      },
      "execution_count": null,
      "outputs": []
    },
    {
      "cell_type": "markdown",
      "source": [
        "# Order Example 1"
      ],
      "metadata": {
        "id": "X7VWxiJD_VW7"
      }
    },
    {
      "cell_type": "code",
      "source": [
        "from pybit import spot\n",
        "from time import sleep\n",
        "\n",
        "session_auth = spot.HTTP(\n",
        "    api_key=api_key,\n",
        "    api_secret=api_secret_key,\n",
        "    endpoint=\"https://api-testnet.bybit.com\"\n",
        ")"
      ],
      "metadata": {
        "id": "uCLTu3Ap-ct8"
      },
      "execution_count": null,
      "outputs": []
    },
    {
      "cell_type": "code",
      "source": [
        "while True:\n",
        "  try:\n",
        "    btc_price = float(session_auth.latest_information_for_symbol(\n",
        "          symbol=\"BTCUSDT\"\n",
        "        )['result']['bestAskPrice'])\n",
        "  except Exception as e:\n",
        "    print(e)\n",
        "\n",
        "  if btc_price >= 23500:\n",
        "    try:\n",
        "      order = session_auth.place_active_order(\n",
        "          symbol=\"ETHUSDT\",\n",
        "          side=\"Buy\",\n",
        "          order_type=\"Market\",\n",
        "          qty=50,\n",
        "          time_in_force=\"GoodTillCancel\"\n",
        "      )['result']['order_id']\n",
        "    except Exception as e:\n",
        "     print(e)\n",
        "\n",
        "    sleep(3)\n",
        "\n",
        "    try:\n",
        "      order_status = session_auth.query_active_order(\n",
        "          symbol=\"ETHUSDT\",\n",
        "          order_id=order\n",
        "      )\n",
        "    except Exception as e:\n",
        "      print(e)\n",
        "\n",
        "    if order_status == \"Rejected\" or order_status == \"Cancelled\":\n",
        "      print(\"Order Malfunctioned.\")\n",
        "      break\n",
        "    else:\n",
        "      print(\"Order Executed.\")\n",
        "      break\n",
        "\n",
        "  sleep(60)"
      ],
      "metadata": {
        "id": "DrRNp71n-rFX"
      },
      "execution_count": null,
      "outputs": []
    },
    {
      "cell_type": "markdown",
      "source": [
        "# Order Example 2"
      ],
      "metadata": {
        "id": "2c3QttOoFere"
      }
    },
    {
      "cell_type": "code",
      "source": [
        "while True:\n",
        "  try:\n",
        "    btc_old = float(session_auth.latest_information_for_symbol(\n",
        "          symbol=\"BTCUSDT\"\n",
        "        )['result']['bestAskPrice'])\n",
        "  except Exception as e:\n",
        "    print(e)\n",
        "\n",
        "  sleep(300)\n",
        "\n",
        "  try:\n",
        "    btc_new = float(session_auth.latest_information_for_symbol(\n",
        "          symbol=\"BTCUSDT\"\n",
        "        )['result']['bestAskPrice'])\n",
        "  except Exception as e:\n",
        "    print(e)\n",
        "\n",
        "  percent_move = ((btc_new - btc_old) * 100)/btc_old\n",
        "\n",
        "  if percent_move >= 5:\n",
        "    try:\n",
        "      order = session_auth.place_active_order(\n",
        "          symbol=\"ETHUSDT\",\n",
        "          side=\"Buy\",\n",
        "          order_type=\"Market\",\n",
        "          qty=50,\n",
        "          time_in_force=\"GoodTillCancel\"\n",
        "      )['result']['order_id']\n",
        "    except Exception as e:\n",
        "     print(e)\n",
        "\n",
        "    sleep(3)\n",
        "\n",
        "    try:\n",
        "      order_status = session_auth.query_active_order(\n",
        "          symbol=\"ETHUSDT\",\n",
        "          order_id=order\n",
        "      )\n",
        "    except Exception as e:\n",
        "      print(e)\n",
        "\n",
        "    if order_status == \"Rejected\" or order_status == \"Cancelled\":\n",
        "      print(\"Order Malfunctioned.\")\n",
        "      break\n",
        "    else:\n",
        "      print(\"Order Executed.\")\n",
        "      break"
      ],
      "metadata": {
        "id": "Hl70q_cjEsHb"
      },
      "execution_count": null,
      "outputs": []
    }
  ]
}